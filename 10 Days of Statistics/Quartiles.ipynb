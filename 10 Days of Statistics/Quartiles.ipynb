{
  "nbformat": 4,
  "nbformat_minor": 0,
  "metadata": {
    "colab": {
      "name": "Quartiles.ipynb",
      "provenance": []
    },
    "kernelspec": {
      "name": "python3",
      "display_name": "Python 3"
    },
    "language_info": {
      "name": "python"
    }
  },
  "cells": [
    {
      "cell_type": "code",
      "execution_count": null,
      "metadata": {
        "id": "j6THBaU4vOKD"
      },
      "outputs": [],
      "source": [
        "# Enter your code here. Read input from STDIN. Print output to STDOUT\n",
        "\n",
        "import sys\n",
        "from statistics import median\n",
        "\n",
        "n = int(input())\n",
        "array = sorted(list(map(int, input().rstrip().split())))\n",
        "\n",
        "q_2 = int(median(array))\n",
        "\n",
        "def quartiles(array):\n",
        "    if n % 2 != 0:\n",
        "        array.remove(median(array))\n",
        "        \n",
        "    split = int(len(array)/2)        \n",
        "    lower_half = array[:split]\n",
        "    upper_half = array[split:]\n",
        "    \n",
        "    q_1 = int(median(lower_half))\n",
        "    q_3 = int(median(upper_half))\n",
        "    return (q_1, q_3)\n",
        "\n",
        "q_1, q_3 = quartiles(array)\n",
        "\n",
        "print(q_1)\n",
        "print(q_2)\n",
        "print(q_3)\n"
      ]
    }
  ]
}