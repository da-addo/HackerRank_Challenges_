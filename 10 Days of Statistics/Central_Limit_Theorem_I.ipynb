{
  "nbformat": 4,
  "nbformat_minor": 0,
  "metadata": {
    "colab": {
      "name": "Central Limit Theorem I.ipynb",
      "provenance": []
    },
    "kernelspec": {
      "name": "python3",
      "display_name": "Python 3"
    },
    "language_info": {
      "name": "python"
    }
  },
  "cells": [
    {
      "cell_type": "code",
      "execution_count": null,
      "metadata": {
        "id": "mVWGAxzRnZOx"
      },
      "outputs": [],
      "source": [
        "import statistics\n",
        "import math\n",
        "\n",
        "upper_lim = int(input())\n",
        "n = int(input())\n",
        "mean = int(input())\n",
        "std = int(input())\n",
        "\n",
        "mean_prime = n * mean\n",
        "std_prime = math.sqrt(n) * std\n",
        "\n",
        "proba = 0.5 * (1 + math.erf((upper_lim - mean_prime) / (std_prime * math.sqrt(2))))\n",
        "\n",
        "print(round(proba, 4))\n"
      ]
    }
  ]
}