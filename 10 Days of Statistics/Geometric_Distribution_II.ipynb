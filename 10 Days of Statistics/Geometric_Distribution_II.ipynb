{
  "nbformat": 4,
  "nbformat_minor": 0,
  "metadata": {
    "colab": {
      "name": "Geometric Distribution II.ipynb",
      "provenance": []
    },
    "kernelspec": {
      "name": "python3",
      "display_name": "Python 3"
    },
    "language_info": {
      "name": "python"
    }
  },
  "cells": [
    {
      "cell_type": "code",
      "execution_count": null,
      "metadata": {
        "id": "GGBoTWo-y4cc"
      },
      "outputs": [],
      "source": [
        "# Enter your code here. Read input from STDIN. Print output to STDOUT\n",
        "\n",
        "p = 1.0 / 3.0 \n",
        "n = 6\n",
        "geodist = 0\n",
        "\n",
        "for i in range(1, 6):\n",
        "    geodist += (1-p) ** (i-1) * p\n",
        "\n",
        "print(round(geodist, 3))"
      ]
    }
  ]
}