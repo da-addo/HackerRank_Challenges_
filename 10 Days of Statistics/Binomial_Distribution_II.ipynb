{
  "nbformat": 4,
  "nbformat_minor": 0,
  "metadata": {
    "colab": {
      "name": "Binomial Distribution II.ipynb",
      "provenance": []
    },
    "kernelspec": {
      "name": "python3",
      "display_name": "Python 3"
    },
    "language_info": {
      "name": "python"
    }
  },
  "cells": [
    {
      "cell_type": "code",
      "execution_count": null,
      "metadata": {
        "id": "8h7mVHUlwtdx"
      },
      "outputs": [],
      "source": [
        "# Enter your code here. Read input from STDIN. Print output to STDOUT\n",
        "from math import factorial\n",
        "\n",
        "values = input().rsplit()\n",
        "v_1 = float(values[0])\n",
        "v_2 = float(values[1])\n",
        "p = v_1 / 100\n",
        "n = v_2\n",
        "\n",
        "def binomial_dist(start, end):\n",
        "    probability = 0\n",
        "    for k in range(start, end):\n",
        "        a = factorial(n) / (factorial(k) * factorial(n - k))\n",
        "        b = (p ** k) * (1 - p) ** (n - k)\n",
        "        probability += a * b\n",
        "    return probability\n",
        "    \n",
        "probability_1 = binomial_dist(0, 3)\n",
        "probability_2 = binomial_dist(2, 11)\n",
        "    \n",
        "print(round(probability_1, 3))\n",
        "print(round(probability_2, 3))\n"
      ]
    }
  ]
}