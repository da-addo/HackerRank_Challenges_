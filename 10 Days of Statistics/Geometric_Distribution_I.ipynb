{
  "nbformat": 4,
  "nbformat_minor": 0,
  "metadata": {
    "colab": {
      "name": "Geometric Distribution I.ipynb",
      "provenance": []
    },
    "kernelspec": {
      "name": "python3",
      "display_name": "Python 3"
    },
    "language_info": {
      "name": "python"
    }
  },
  "cells": [
    {
      "cell_type": "code",
      "execution_count": null,
      "metadata": {
        "id": "1FF7XlNLycus"
      },
      "outputs": [],
      "source": [
        "# Enter your code here. Read input from STDIN. Print output to STDOUT\n",
        "\n",
        "p = 1.0 / 3.0 \n",
        "n = 5\n",
        "\n",
        "probability = (1-p) ** (5-1) * p\n",
        "print(round(probability, 3))"
      ]
    }
  ]
}