{
  "nbformat": 4,
  "nbformat_minor": 0,
  "metadata": {
    "colab": {
      "name": "Least Square Regression Line.ipynb",
      "provenance": [],
      "collapsed_sections": []
    },
    "kernelspec": {
      "name": "python3",
      "display_name": "Python 3"
    },
    "language_info": {
      "name": "python"
    }
  },
  "cells": [
    {
      "cell_type": "code",
      "execution_count": null,
      "metadata": {
        "id": "GzQfAzD_oA82"
      },
      "outputs": [],
      "source": [
        "import sys\n",
        "import statistics as stats\n",
        "\n",
        "x = []\n",
        "y = []\n",
        "\n",
        "for i in sys.stdin.readlines():    \n",
        "    a, b = list(map(int, i.split()))\n",
        "    x.append(a)\n",
        "    y.append(b)\n",
        "\n",
        "n = int(len(x))\n",
        "\n",
        "x_sum = sum(x)\n",
        "y_sum = sum(y)\n",
        "\n",
        "x_mean = stats.mean(x)\n",
        "y_mean = stats.mean(y)\n",
        "\n",
        "x_squared = [i**2 for i in x]\n",
        "sum_of_x_squared = sum(x_squared)\n",
        "\n",
        "xy = [i * j for i, j in zip(x,y)]\n",
        "sum_of_xy = sum(xy)\n",
        "\n",
        "var_b = (n * sum_of_xy - x_sum * y_sum) / (n * sum_of_x_squared - x_sum ** 2)\n",
        "var_a = y_mean - var_b * x_mean\n",
        "\n",
        "y_hat = var_a + var_b * 80\n",
        "\n",
        "print(round(y_hat, 3))"
      ]
    }
  ]
}