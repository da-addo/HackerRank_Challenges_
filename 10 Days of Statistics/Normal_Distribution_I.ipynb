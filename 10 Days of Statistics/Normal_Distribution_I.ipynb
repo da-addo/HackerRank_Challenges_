{
  "nbformat": 4,
  "nbformat_minor": 0,
  "metadata": {
    "colab": {
      "name": "Normal Distribution I.ipynb",
      "provenance": []
    },
    "kernelspec": {
      "name": "python3",
      "display_name": "Python 3"
    },
    "language_info": {
      "name": "python"
    }
  },
  "cells": [
    {
      "cell_type": "code",
      "execution_count": null,
      "metadata": {
        "id": "dge7t9cynLoK"
      },
      "outputs": [],
      "source": [
        "import statistics\n",
        "import math\n",
        "\n",
        "mean, std = list(map(int, input().split()))\n",
        "var = float(input())\n",
        "lower, upper = list(map(int, input().split()))\n",
        "\n",
        "\n",
        "def cumulative_proba(x):\n",
        "    proba = 0.5 * (1 + math.erf((x - mean) / (std * math.sqrt(2))))\n",
        "    return proba\n",
        "\n",
        "proba_1 = cumulative_proba(var) \n",
        "proba_2 = cumulative_proba(upper) - cumulative_proba(lower)\n",
        "    \n",
        "print(round(proba_1, 3))\n",
        "print(round(proba_2, 3))\n"
      ]
    }
  ]
}