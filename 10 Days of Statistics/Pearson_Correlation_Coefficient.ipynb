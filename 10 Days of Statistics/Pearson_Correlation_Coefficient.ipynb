{
  "nbformat": 4,
  "nbformat_minor": 0,
  "metadata": {
    "colab": {
      "name": "Pearson Correlation Coefficient.ipynb",
      "provenance": []
    },
    "kernelspec": {
      "name": "python3",
      "display_name": "Python 3"
    },
    "language_info": {
      "name": "python"
    }
  },
  "cells": [
    {
      "cell_type": "code",
      "execution_count": null,
      "metadata": {
        "id": "slCti3LDnplc"
      },
      "outputs": [],
      "source": [
        "import statistics as stats\n",
        "import math\n",
        "\n",
        "n = int(input())\n",
        "x = list(map(float, input().split()))\n",
        "x_mean = stats.mean(x)\n",
        "x_std = stats.pstdev(x)\n",
        "y = list(map(float, input().split()))\n",
        "y_mean = stats.mean(y)\n",
        "y_std = stats.pstdev(y)\n",
        "total = 0\n",
        "\n",
        "for i, j in zip(x, y):\n",
        "    total += (i  - x_mean) * (j - y_mean)\n",
        "    \n",
        "p_corr = total / (n * x_std * y_std)\n",
        "\n",
        "print(round(p_corr, 3))\n"
      ]
    }
  ]
}