{
  "nbformat": 4,
  "nbformat_minor": 0,
  "metadata": {
    "colab": {
      "name": "Binomial Distribution I.ipynb",
      "provenance": []
    },
    "kernelspec": {
      "name": "python3",
      "display_name": "Python 3"
    },
    "language_info": {
      "name": "python"
    }
  },
  "cells": [
    {
      "cell_type": "code",
      "execution_count": null,
      "metadata": {
        "id": "Bovqg8NvvyWD"
      },
      "outputs": [],
      "source": [
        "# Enter your code here. Read input from STDIN. Print output to STDOUT\n",
        "from math import factorial\n",
        "\n",
        "values = input().rsplit()\n",
        "\n",
        "p_1 = float(values[0])\n",
        "p_2 = float(values[1])\n",
        "p_1 = p_1 / (p_2 + p_1)\n",
        "n = 6\n",
        "proportion = 0\n",
        "\n",
        "for k in range(3, 7):\n",
        "    desired_outcome = factorial(n) / (factorial(k) * factorial(n - k))\n",
        "    outcome_probability = (p_1 ** k) * (1 - p_1) ** (n - k)\n",
        "    proportion += desired_outcome * outcome_probability\n",
        "\n",
        "\n",
        "print(round(proportion, 3))\n"
      ]
    }
  ]
}