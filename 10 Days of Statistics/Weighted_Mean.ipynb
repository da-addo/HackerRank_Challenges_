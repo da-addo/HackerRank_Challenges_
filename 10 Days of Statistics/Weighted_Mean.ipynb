{
  "nbformat": 4,
  "nbformat_minor": 0,
  "metadata": {
    "colab": {
      "name": "Weighted Mean.ipynb",
      "provenance": []
    },
    "kernelspec": {
      "name": "python3",
      "display_name": "Python 3"
    },
    "language_info": {
      "name": "python"
    }
  },
  "cells": [
    {
      "cell_type": "code",
      "execution_count": null,
      "metadata": {
        "id": "Uuf1CQhxtKMJ"
      },
      "outputs": [],
      "source": [
        "# Enter your code here. Read input from STDIN. Print output to STDOUT\n",
        "\n",
        "import math\n",
        "import sys\n",
        "\n",
        "num_elements = int(sys.stdin.readline())\n",
        "values = list((map(int, sys.stdin.readline().split())))\n",
        "weights = list((map(int, sys.stdin.readline().split())))\n",
        "\n",
        "product = [values[i] * weights[i] for i in range(num_elements)]\n",
        "total = sum(product)\n",
        "wt_sum = sum(weights)\n",
        "\n",
        "print(round((total/wt_sum), 1))\n"
      ]
    }
  ]
}