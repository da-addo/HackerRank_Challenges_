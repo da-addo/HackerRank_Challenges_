{
  "nbformat": 4,
  "nbformat_minor": 0,
  "metadata": {
    "colab": {
      "name": "Standard_Deviation.ipynb",
      "provenance": []
    },
    "kernelspec": {
      "name": "python3",
      "display_name": "Python 3"
    },
    "language_info": {
      "name": "python"
    }
  },
  "cells": [
    {
      "cell_type": "code",
      "execution_count": null,
      "metadata": {
        "id": "ah6mMMHUvojc"
      },
      "outputs": [],
      "source": [
        "# Enter your code here. Read input from STDIN. Print output to STDOUT\n",
        "\n",
        "import sys\n",
        "import math\n",
        "\n",
        "n = int(input())\n",
        "array = list(map(float, input().rstrip().split()))\n",
        "\n",
        "def standard_deviation(array):\n",
        "    mean = sum(array) / n\n",
        "    \n",
        "    variance = [(i - mean)**2 for i in array]\n",
        "    \n",
        "    stan_dev = math.sqrt(sum(variance) / n)\n",
        "    \n",
        "    return stan_dev\n",
        "    \n",
        "output = standard_deviation(array)\n",
        "\n",
        "print(round(output, 1))\n",
        "\n"
      ]
    }
  ]
}