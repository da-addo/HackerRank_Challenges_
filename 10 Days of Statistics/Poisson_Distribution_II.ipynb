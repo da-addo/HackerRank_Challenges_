{
  "nbformat": 4,
  "nbformat_minor": 0,
  "metadata": {
    "colab": {
      "name": "Poisson Distribution II.ipynb",
      "provenance": []
    },
    "kernelspec": {
      "name": "python3",
      "display_name": "Python 3"
    },
    "language_info": {
      "name": "python"
    }
  },
  "cells": [
    {
      "cell_type": "code",
      "execution_count": null,
      "metadata": {
        "id": "kci13FJXm7oV"
      },
      "outputs": [],
      "source": [
        "# Enter your code here. Read input from STDIN. Print output to STDOUT\n",
        "\n",
        "x = 0.88\n",
        "y = 1.55\n",
        "\n",
        "a = 160 + 40 * (x + x ** 2)\n",
        "b = 128 + 40 * (y + y ** 2)\n",
        "\n",
        "print(round(a, 3))\n",
        "print(round(b, 3))\n"
      ]
    }
  ]
}