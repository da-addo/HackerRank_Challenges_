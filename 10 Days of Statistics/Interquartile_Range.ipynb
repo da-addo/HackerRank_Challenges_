{
  "nbformat": 4,
  "nbformat_minor": 0,
  "metadata": {
    "colab": {
      "name": "Interquartile Range.ipynb",
      "provenance": []
    },
    "kernelspec": {
      "name": "python3",
      "display_name": "Python 3"
    },
    "language_info": {
      "name": "python"
    }
  },
  "cells": [
    {
      "cell_type": "code",
      "execution_count": null,
      "metadata": {
        "id": "Bq-jukqkveaF"
      },
      "outputs": [],
      "source": [
        "# Enter your code here. Read input from STDIN. Print output to STDOUT\n",
        "import sys\n",
        "from statistics import median\n",
        "\n",
        "n = int(input())\n",
        "array_X = list(map(int, input().rstrip().split()))\n",
        "array_F = list(map(int, input().rstrip().split()))\n",
        "\n",
        "array_zip = list(zip(array_X, array_F))\n",
        "data_set = []\n",
        "\n",
        "for i, j in array_zip:\n",
        "    for k in range(j):\n",
        "        data_set.append(i)\n",
        "    \n",
        "data_set = sorted(data_set)\n",
        "\n",
        "def quartiles(array):\n",
        "    if n % 2 != 0:\n",
        "        array.remove(median(array))\n",
        "        \n",
        "    split = int(len(array)/2)        \n",
        "    lower_half = array[:split]\n",
        "    upper_half = array[split:]\n",
        "    \n",
        "    q_1 = float(median(lower_half))\n",
        "    q_3 = float(median(upper_half))\n",
        "    return (q_1, q_3)\n",
        "\n",
        "q_1, q_3 = quartiles(data_set)\n",
        "iqr = round((q_3-q_1), 2)\n",
        "\n",
        "print(iqr)\n"
      ]
    }
  ]
}